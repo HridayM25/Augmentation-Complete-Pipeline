{
 "cells": [
  {
   "cell_type": "markdown",
   "id": "6c39ac04",
   "metadata": {},
   "source": [
    "# Run all these cells below for importing necessary libraries"
   ]
  },
  {
   "cell_type": "code",
   "execution_count": null,
   "id": "3a3ced58",
   "metadata": {},
   "outputs": [],
   "source": [
    "!pip install imageio\n",
    "!pip install imgaug\n",
    "!pip install Pillow"
   ]
  },
  {
   "cell_type": "code",
   "execution_count": 49,
   "id": "6dc9e595",
   "metadata": {},
   "outputs": [
    {
     "name": "stdout",
     "output_type": "stream",
     "text": [
      "Requirement already satisfied: tqdm in c:\\users\\hrida\\anaconda3\\lib\\site-packages (4.64.1)\n",
      "Requirement already satisfied: colorama in c:\\users\\hrida\\anaconda3\\lib\\site-packages (from tqdm) (0.4.4)\n"
     ]
    },
    {
     "name": "stderr",
     "output_type": "stream",
     "text": [
      "WARNING: You are using pip version 22.0.4; however, version 23.0.1 is available.\n",
      "You should consider upgrading via the 'C:\\Users\\hrida\\anaconda3\\python.exe -m pip install --upgrade pip' command.\n"
     ]
    }
   ],
   "source": [
    "!pip install tqdm"
   ]
  },
  {
   "cell_type": "code",
   "execution_count": 1,
   "id": "e8c5be46",
   "metadata": {},
   "outputs": [],
   "source": [
    "import imageio\n",
    "import imgaug as ia\n",
    "import imgaug.augmenters as iaa\n",
    "import numpy as np\n",
    "import pandas as pd\n",
    "import matplotlib.pyplot as plt\n",
    "import matplotlib.patches as patches\n",
    "import matplotlib\n",
    "%matplotlib inline\n",
    "from imgaug.augmentables.bbs import BoundingBox, BoundingBoxesOnImage\n",
    "from PIL import Image, ImageFilter, ImageEnhance\n",
    "import uuid\n",
    "from tqdm import tqdm\n",
    "import time\n",
    "import sys\n",
    "import os"
   ]
  },
  {
   "cell_type": "code",
   "execution_count": 2,
   "id": "dcedff27",
   "metadata": {},
   "outputs": [],
   "source": [
    "def convert_to_yolo (bbs):\n",
    "    yolo=[]\n",
    "    h=bbs.height\n",
    "    w=bbs.width\n",
    "    for i in range(len (bbs)):\n",
    "        width=bbs[i].x2-bbs[i].x1\n",
    "        height=bbs[i].y2-bbs[i].y1\n",
    "        x_center=bbs[i].center_x\n",
    "        y_center=bbs[i].center_y\n",
    "        yolo_1=[x_center/w, y_center/h, width/w, height/h]\n",
    "        yolo.append(yolo_1)\n",
    "    return yolo"
   ]
  },
  {
   "cell_type": "code",
   "execution_count": 3,
   "id": "18ed2a7c",
   "metadata": {},
   "outputs": [],
   "source": [
    "def pad(image, by):\n",
    "    image_border1=ia.pad(image, top=1, right=1, bottom=1, left=1, mode=\"constant\", cval=255)\n",
    "    image_border2=ia.pad(image_border1, top=by-1, right=by-1, bottom=by-1, left=by-1, mode=\"constant\", cval=0)\n",
    "    return image_border2\n",
    "def draw_bbs(image, bbs, border):\n",
    "    GREEN= [0,255,0]\n",
    "    ORANGE=[255,140,0]\n",
    "    RED=[255,0,0]\n",
    "    image_border=pad(image, border)\n",
    "    for bb in bbs.bounding_boxes:\n",
    "        if bb.is_fully_within_image(image.shape):\n",
    "            color=GREEN\n",
    "        elif bb.is_partly_within_image(image.shape):\n",
    "            color=ORANGE\n",
    "        else:\n",
    "            color=RED\n",
    "        image_border=bb.shift(left=border, top=border).draw_on_image(image_border, size=2, color=color)\n",
    "    return image_border"
   ]
  },
  {
   "cell_type": "code",
   "execution_count": 4,
   "id": "548c0c1b",
   "metadata": {},
   "outputs": [],
   "source": [
    "def blur_a_part(x_min, y_min, x_max, y_max, image_path):\n",
    "    img=Image.open(image_path)\n",
    "    cropped_image=img.crop((x_min, y_min, x_max, y_max))\n",
    "    blurred_image=cropped_image.filter(ImageFilter.GaussianBlur(radius=2))\n",
    "    img.paste(blurred_image, (x_min, y_min, x_max, y_max))\n",
    "    ia.imshow(bbs.draw_on_image(img, size=2))\n",
    "    print(convert_to_yolo(bbs))"
   ]
  },
  {
   "cell_type": "code",
   "execution_count": 5,
   "id": "ced63d3a",
   "metadata": {},
   "outputs": [],
   "source": [
    "def fade_image(image, p1, p2, flow_up=False):\n",
    "    fade_range = list(range(int(height*p1), int(height*p2)))\n",
    "    fade_range = fade_range[::-1] if flow_up else fade_range\n",
    "    for y in fade_range:\n",
    "        if flow_up:\n",
    "            alpha = int((y - height*p1)/height/(p2-p1) * 255)\n",
    "        else:\n",
    "            alpha = 255-int((y - height*p1)/height/(p2-p1) * 255)\n",
    "        for x in range(width):\n",
    "            pixels[x, y] = pixels[x, y][:3] + (alpha,) \n"
   ]
  },
  {
   "cell_type": "markdown",
   "id": "c5abf90d",
   "metadata": {},
   "source": [
    "# Put path1 and path2 as the images and labels folder (before augmentation)"
   ]
  },
  {
   "cell_type": "code",
   "execution_count": 6,
   "id": "fca0a737",
   "metadata": {},
   "outputs": [],
   "source": [
    "path1=r\"C:\\Users\\hrida\\Desktop\\extract all b4 use\\try\\images\\\\\"\n",
    "path2=r\"C:\\Users\\hrida\\Desktop\\extract all b4 use\\try\\labels\\\\\""
   ]
  },
  {
   "cell_type": "code",
   "execution_count": 99,
   "id": "e81adf04",
   "metadata": {},
   "outputs": [
    {
     "name": "stdout",
     "output_type": "stream",
     "text": [
      "ENTER IMAGESC:\\Users\\hrida\\Desktop\\extract all b4 use\\try\\images\\\\\n",
      "ENTER LABELSC:\\Users\\hrida\\Desktop\\extract all b4 use\\try\\labels\\\\\n"
     ]
    }
   ],
   "source": [
    "path1=(input(\"ENTER IMAGES PATH: \"))\n",
    "path2=input(\"ENTER LABELS PATH: \")"
   ]
  },
  {
   "cell_type": "code",
   "execution_count": 100,
   "id": "7a9a4f35",
   "metadata": {},
   "outputs": [
    {
     "data": {
      "text/plain": [
       "'C:\\\\Users\\\\hrida\\\\Desktop\\\\extract all b4 use\\\\try\\\\images\\\\\\\\'"
      ]
     },
     "execution_count": 100,
     "metadata": {},
     "output_type": "execute_result"
    }
   ],
   "source": [
    "pathx"
   ]
  },
  {
   "cell_type": "code",
   "execution_count": 101,
   "id": "7d763fe7",
   "metadata": {},
   "outputs": [
    {
     "data": {
      "text/plain": [
       "'C:\\\\Users\\\\hrida\\\\Desktop\\\\extract all b4 use\\\\try\\\\images\\\\\\\\'"
      ]
     },
     "execution_count": 101,
     "metadata": {},
     "output_type": "execute_result"
    }
   ],
   "source": [
    "path1"
   ]
  },
  {
   "cell_type": "markdown",
   "id": "268ab584",
   "metadata": {},
   "source": [
    "# Put path3 and path4 as the images and labels folder (after augmentation)"
   ]
  },
  {
   "cell_type": "code",
   "execution_count": 102,
   "id": "5319c566",
   "metadata": {},
   "outputs": [],
   "source": [
    "path3=(input(\"ENTER FINAL IMAGES PATH: \"))\n",
    "path4=input(\"ENTER FINAL LABELS PATH: \")"
   ]
  },
  {
   "cell_type": "markdown",
   "id": "ec86336d",
   "metadata": {},
   "source": [
    "# Use this function for renaming files.\n",
    "\n",
    "#### start will be the starting number for the name of the file."
   ]
  },
  {
   "cell_type": "code",
   "execution_count": 8,
   "id": "80a0bbcb",
   "metadata": {},
   "outputs": [],
   "source": [
    "def renamer():\n",
    "    f1=os.listdir(path1)\n",
    "    f2=os.listdir(path2)\n",
    "    #find which path has more number of files\n",
    "    if len(f1)>=len(f2):\n",
    "        string2=\"\"\n",
    "        for i in range(len(f2)):\n",
    "            string2=string2 + f2[i] + \" \"\n",
    "        string2=string2.replace(\".txt\", '')\n",
    "        l2=string2.split()\n",
    "        list_to_see=l2\n",
    "#l2=list(enumerate(l2))\n",
    "    else:\n",
    "        print(\"THIS IS CORRECT\")\n",
    "        string1=\"\"\n",
    "        for i in range(len(f1)):\n",
    "            string1=string1 + f1[i] + \" \"\n",
    "        string1=string1.replace(\".jpg\", '')\n",
    "        string1=string1.replace(\".jpeg\", '')\n",
    "        string1=string1.replace('.png', '')\n",
    "        l1=string1.split()\n",
    "        list_to_see=l1\n",
    "#l1=list(enumerate(l1))\n",
    "    for filename in list_to_see:\n",
    "        id1=str(uuid.uuid1())\n",
    "        dest1=path1 + str(id1) +\".jpg\"\n",
    "        if os.path.exists(path1+filename+\".jpg\"):\n",
    "            source1 = path1+ filename +\".jpg\"\n",
    "        if os.path.exists(path1+filename+\".jpeg\"):\n",
    "            source1 = path1+ filename +\".jpeg\"\n",
    "        if os.path.exists(path1+filename+\".png\"):\n",
    "             source1 = path1+ filename +\".png\"\n",
    "        dest2=path2 + str(id1) + '.txt'\n",
    "        source2 = path2+ filename + '.txt'\n",
    "        os.rename(source1,dest1)\n",
    "        os.rename(source2,dest2)"
   ]
  },
  {
   "cell_type": "code",
   "execution_count": 9,
   "id": "1966c60d",
   "metadata": {},
   "outputs": [
    {
     "name": "stdout",
     "output_type": "stream",
     "text": [
      "THIS IS CORRECT\n"
     ]
    }
   ],
   "source": [
    "renamer()"
   ]
  },
  {
   "cell_type": "code",
   "execution_count": 113,
   "id": "7b4ea5e2",
   "metadata": {},
   "outputs": [],
   "source": [
    "f1=os.listdir(path1)\n",
    "f2=os.listdir(path2)"
   ]
  },
  {
   "cell_type": "code",
   "execution_count": 114,
   "id": "d44a775f",
   "metadata": {},
   "outputs": [],
   "source": [
    "string1=\"\"\n",
    "for i in range(len(f1)):\n",
    "    string1=string1 + f1[i] + \" \"\n",
    "string1=string1.replace(\".jpg\", '')\n",
    "string1=string1.replace(\".jpeg\", '')\n",
    "string1=string1.replace('.png', '')\n",
    "l1=string1.split()\n",
    "#l1=list(enumerate(l1))"
   ]
  },
  {
   "cell_type": "code",
   "execution_count": 115,
   "id": "6e555988",
   "metadata": {},
   "outputs": [],
   "source": [
    "string2=\"\"\n",
    "for i in range(len(f2)):\n",
    "    string2=string2 + f2[i] + \" \"\n",
    "string2=string2.replace(\".txt\", '')\n",
    "l2=string2.split()\n",
    "#l2=list(enumerate(l2))"
   ]
  },
  {
   "cell_type": "markdown",
   "id": "84857101",
   "metadata": {},
   "source": [
    "# Just run this function"
   ]
  },
  {
   "cell_type": "code",
   "execution_count": 105,
   "id": "1014e117",
   "metadata": {},
   "outputs": [],
   "source": [
    "def operate(i):\n",
    "    #global bbs\n",
    "    image=imageio.imread(path1 + str(i) + \".jpg\")\n",
    "#inorder to check labels iterate through this\n",
    "    f=open(path2 + str(i) + \".txt\")\n",
    "    l=f.readlines()\n",
    "    for j in range(0,len(l)):\n",
    "        c1=l[j].split()\n",
    "        h=image.shape[0]\n",
    "        w=image.shape[1]\n",
    "        c1[1]=float(c1[1])\n",
    "        c1[2]=float(c1[2])\n",
    "        c1[3]=float(c1[3])\n",
    "        c1[4]=float(c1[4])\n",
    "        x_center1=int(c1[1]*w)\n",
    "        y_center1=int(c1[2]*h)\n",
    "        xmin1=w/2*(2*c1[1] - c1[3])\n",
    "        xmax1=w/2*(2*c1[1]+c1[3])\n",
    "        ymin1=h/2*(2*c1[2]-c1[4])\n",
    "        ymax1=h/2*(2*c1[2]+c1[4])\n",
    "        obj_class1=c1[0]\n",
    "        \"\"\"if len(l)==2:\n",
    "        c2=l[1].split()\n",
    "        c2[1]=float(c2[1])\n",
    "        c2[2]=float(c2[2])\n",
    "        c2[3]=float(c2[3])\n",
    "        c2[4]=float(c2[4])\n",
    "        x_center2=int(c2[1]*w)\n",
    "        y_center2=int(c2[2]*h)\n",
    "        xmin2=w/2*(2*c2[1] - c2[3])\n",
    "        xmax2=w/2*(2*c2[1]+c2[3])\n",
    "        ymin2=h/2*(2*c2[2]-c2[4])\n",
    "        ymax2=h/2*(2*c2[2]+c2[4])\n",
    "        obj_class2=c2[0]\"\"\"\n",
    "        #if len(l)==1:\n",
    "        bbs=BoundingBoxesOnImage ([BoundingBox(x1=xmin1, x2=xmax1, y1=ymin1, y2=ymax1)], shape=image.shape)\n",
    "   # elif len(l)>=2:\n",
    "        #bbs=BoundingBoxesOnImage ([BoundingBox(x1=xmin1, x2=xmax1, y1=ymin1, y2=ymax1), BoundingBox(x1=xmin2, x2=xmax2, y1=ymin2, y2=ymax2)], shape=image.shape)\n",
    "#we have derived the bounding boxes coordinates in the correct format.\n",
    "        move=iaa.Affine(translate_percent={\"x\":0.10}, scale=0.8)\n",
    "        image_move, bbs_move=move(image=image, bounding_boxes=bbs)\n",
    "        horizontal_flip=iaa.Fliplr(1)\n",
    "        flipped_image=horizontal_flip.augment_image(image)\n",
    "        image_flipped, bbs_flip=horizontal_flip(image=image, bounding_boxes=bbs)\n",
    "        dropout=iaa.CoarseDropout()\n",
    "        dropout_image=dropout.augment_image(image)\n",
    "        image_dropout, bbs_dropout=dropout(image=image, bounding_boxes=bbs)\n",
    "        crop=iaa.Crop(px=(100,64,0,0))\n",
    "        crop_image=crop.augment_image(image)\n",
    "        image_aug, bbs_crop=crop(image=image, bounding_boxes=bbs)\n",
    "        rotate=iaa.Affine(rotate=(-50,30))\n",
    "        image_rot, bbs_rot=rotate(image=image, bounding_boxes=bbs)\n",
    "        image_after=draw_bbs(image_rot, bbs_rot.remove_out_of_image().clip_out_of_image(), 100)\n",
    "        im=Image.open(path1 + str(i) + \".jpg\")\n",
    "        cropped_image=im.crop((x_center1, y_center1, int(xmax1), int(ymax1)))\n",
    "        blurred_image=cropped_image.filter(ImageFilter.GaussianBlur(radius=2))\n",
    "        im.paste(blurred_image, (x_center1, y_center1, int(xmax1), int(ymax1)))\n",
    "        cropped_image=im.crop((0, 0, int(w/2), int(h/2)))\n",
    "        blurred_image=cropped_image.filter(ImageFilter.GaussianBlur(radius=5))\n",
    "        im.paste(blurred_image, (0, 0, int(w/2), int(h/2)))\n",
    "        fog=iaa.Fog()\n",
    "        snowflakes= iaa.Snowflakes(flake_size=(0.55, 0.55), speed=(0.01, 0.05))\n",
    "        rain= iaa.Rain(speed=(0.1, 0.3))\n",
    "        snowflakes_image=snowflakes.augment_image(image)\n",
    "        fog_image=fog.augment_image(image)\n",
    "        rain_image=rain.augment_image(image)\n",
    "        imz = Image.open(path1 +str(i) + \".jpg\")\n",
    "        imz.putalpha(177)\n",
    "        width, height = imz.size\n",
    "        pixels = imz.load()\n",
    "        #print(2)\n",
    "        #print(12)\n",
    "        #fade_image(pixels, 0.2 , 0.5, flow_up=True)\n",
    "        #print(13)\n",
    "        #fade_image(pixels, 0.5, 1, flow_up=False)\n",
    "        #print(10)\n",
    "        l_0=convert_to_yolo(bbs)\n",
    "        l0=convert_to_yolo(bbs_move)\n",
    "        l1=convert_to_yolo(bbs_flip)\n",
    "        l2=convert_to_yolo(bbs_dropout)\n",
    "        l3=convert_to_yolo(bbs_crop)\n",
    "        l4=convert_to_yolo(bbs_rot)\n",
    "        l5=convert_to_yolo(bbs)\n",
    "        f1=open(path4 +str (i) + \"-0.txt\", 'a')\n",
    "        f1.write(str(obj_class1) + \" \")\n",
    "        for x in range (4):\n",
    "            f1.write(str(l_0[0][x]) + \" \")\n",
    "        f1.write(\"\\n\")\n",
    "        f1=open(path4 +str (i) + \"-1.txt\", 'a')\n",
    "        f1.write(str(obj_class1) + \" \")\n",
    "        for x in range (4):\n",
    "            f1.write(str(l0[0][x]) + \" \")\n",
    "        f1.write(\"\\n\")\n",
    "        f1=open(path4 +str (i) + \"-2.txt\", 'a')\n",
    "        f1.write(str(obj_class1) + \" \")\n",
    "        for x in range (4):\n",
    "            f1.write(str(l1[0][x]) + \" \")\n",
    "        f1.write(\"\\n\")\n",
    "        f1=open(path4 +str (i) + \"-3.txt\", 'a')\n",
    "        f1.write(str(obj_class1) + \" \")\n",
    "        for x in range (4):\n",
    "            f1.write(str(l2[0][x]) + \" \")\n",
    "        f1.write(\"\\n\")\n",
    "        f1=open(path4 +str (i) + \"-4.txt\", 'a')\n",
    "        f1.write(str(obj_class1) + \" \")\n",
    "        for x in range (4):\n",
    "            if l3[0][x]>1:\n",
    "                l3[0][x]=1\n",
    "            if l3[0][x]<0:\n",
    "                l3[0][x]=0\n",
    "            f1.write(str(l3[0][x]) + \" \")\n",
    "        f1.write(\"\\n\")\n",
    "        f1=open(path4 +str (i) + \"-5.txt\", 'a')\n",
    "        f1.write(str(obj_class1) + \" \")\n",
    "        for x in range (4):\n",
    "            if l4[0][x]>1:\n",
    "                l4[0][x]=1\n",
    "            f1.write(str(l4[0][x]) + \" \")\n",
    "        f1.write(\"\\n\")\n",
    "        f1=open(path4 +str (i) + \"-6.txt\", 'a')\n",
    "        f1.write(str(obj_class1) + \" \")\n",
    "        for x in range (4):\n",
    "            f1.write(str(l_0[0][x]) + \" \")\n",
    "        f1.write(\"\\n\")\n",
    "        f1=open(path4 +str (i) + \"-7.txt\", 'a')\n",
    "        f1.write(str(obj_class1) + \" \")\n",
    "        for x in range (4):\n",
    "            f1.write(str(l_0[0][x]) + \" \")\n",
    "        f1.write(\"\\n\")\n",
    "        f1=open(path4 +str (i) + \"-8.txt\", 'a')\n",
    "        f1.write(str(obj_class1) + \" \")\n",
    "        for x in range (4):\n",
    "            f1.write(str(l_0[0][x]) + \" \")\n",
    "        f1.write(\"\\n\")\n",
    "        f1=open(path4 +str (i) + \"-9.txt\", 'a')\n",
    "        f1.write(str(obj_class1) + \" \")\n",
    "        for x in range (4):\n",
    "            f1.write(str(l_0[0][x]) + \" \")\n",
    "        f1.write(\"\\n\")\n",
    "        f1=open(path4 +str (i) + \"-10.txt\", 'a')\n",
    "        f1.write(str(obj_class1) + \" \")\n",
    "        for x in range (4):\n",
    "            f1.write(str(l_0[0][x]) + \" \")\n",
    "        f1.write(\"\\n\")\n",
    "    imageio.imwrite(path3 + str (i) + \"-0.jpg\", image)\n",
    "    imageio.imwrite(path3 + str (i) + \"-1.jpg\", image_move)\n",
    "    imageio.imwrite(path3 + str (i) + \"-2.jpg\", flipped_image)\n",
    "    imageio.imwrite(path3 + str (i) + \"-3.jpg\", image_dropout)\n",
    "    imageio.imwrite(path3 + str (i) + \"-4.jpg\", crop_image)\n",
    "    imageio.imwrite(path3 + str (i) + \"-5.jpg\", image_rot)\n",
    "    imageio.imwrite(path3 + str (i) + \"-6.jpg\", im)\n",
    "    imageio.imwrite(path3 + str (i) + \"-7.jpg\", snowflakes_image)\n",
    "    imageio.imwrite(path3 + str (i) + \"-8.jpg\", fog_image)\n",
    "    imageio.imwrite(path3 + str (i) + \"-9.jpg\", rain_image)\n",
    "    imz.save(path3 + str (i) + \"-10.png\")"
   ]
  },
  {
   "cell_type": "code",
   "execution_count": 106,
   "id": "929def9a",
   "metadata": {},
   "outputs": [],
   "source": [
    "c=1\n",
    "d=0"
   ]
  },
  {
   "cell_type": "code",
   "execution_count": 124,
   "id": "784f0ab4",
   "metadata": {
    "scrolled": true
   },
   "outputs": [
    {
     "name": "stdout",
     "output_type": "stream",
     "text": [
      "100.0 % complete \r"
     ]
    }
   ],
   "source": [
    "if len(l1)<=len(l2):\n",
    "    for filename in l1:\n",
    "        try:\n",
    "            if os.path.exists(path1 + str(filename) + \".jpg\"):\n",
    "                operate(filename)\n",
    "                print ((l1.index(filename)+1)*100/len(l1), end=' % complete \\r')\n",
    "                sys.stdout.flush()\n",
    "        except:\n",
    "            d=c+1\n",
    "else:\n",
    "    for filename in l2:\n",
    "        try:\n",
    "            if os.path.exists(path2 + str(filename) + \".txt\"):\n",
    "                operate(filename)\n",
    "                print ((l2.index(filename)+1)*100/len(l2), end=' % complete \\r')\n",
    "                sys.stdout.flush()\n",
    "        except:\n",
    "            d=c+1\n",
    "        "
   ]
  },
  {
   "cell_type": "markdown",
   "id": "7a7f324c",
   "metadata": {},
   "source": [
    "# END OF FILE"
   ]
  }
 ],
 "metadata": {
  "kernelspec": {
   "display_name": "Python 3 (ipykernel)",
   "language": "python",
   "name": "python3"
  },
  "language_info": {
   "codemirror_mode": {
    "name": "ipython",
    "version": 3
   },
   "file_extension": ".py",
   "mimetype": "text/x-python",
   "name": "python",
   "nbconvert_exporter": "python",
   "pygments_lexer": "ipython3",
   "version": "3.9.7"
  }
 },
 "nbformat": 4,
 "nbformat_minor": 5
}
